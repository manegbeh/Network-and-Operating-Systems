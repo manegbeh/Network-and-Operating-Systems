{
 "cells": [
  {
   "cell_type": "markdown",
   "id": "b2ccfa67",
   "metadata": {},
   "source": [
    "# Week 3 - Transport Layer\n",
    "\n",
    "## Overview\n",
    "This notebook summarizes key concepts covered in the third week of the **Networks and Operating Systems** module. \n",
    "Topics covered include:\n",
    "- Transport-layer services and protocols\n",
    "- Multiplexing and demultiplexing\n",
    "- Connectionless transport: UDP\n",
    "- Connection-oriented transport: TCP\n",
    "- Principles of reliable data transfer\n",
    "- Flow control and congestion control\n"
   ]
  },
  {
   "cell_type": "markdown",
   "id": "0cefcfd0",
   "metadata": {},
   "source": [
    "## The Transport Layer\n",
    "\n",
    "The **transport layer** is responsible for end-to-end communication and data transfer between applications. It provides:\n",
    "\n",
    "- Logical communication between application processes.\n",
    "- **Multiplexing and demultiplexing** to handle multiple connections.\n",
    "- **Reliable data transfer** through error detection and retransmission (TCP).\n",
    "- **Flow control** to manage sender-receiver speed differences.\n",
    "- **Congestion control** to avoid network overload.\n",
    "\n",
    "### Two main transport-layer protocols:\n",
    "1. **Transmission Control Protocol (TCP)** – Reliable, connection-oriented communication.\n",
    "2. **User Datagram Protocol (UDP)** – Unreliable, connectionless communication.\n"
   ]
  },
  {
   "cell_type": "markdown",
   "id": "eb664530",
   "metadata": {},
   "source": [
    "## Multiplexing and Demultiplexing\n",
    "\n",
    "- **Multiplexing**: Combining multiple application-layer messages for transmission over a single connection.\n",
    "- **Demultiplexing**: Directing received data to the correct application.\n",
    "\n",
    "Each transport-layer segment includes:\n",
    "- **Source and destination port numbers** to identify applications.\n",
    "- **Unique identifiers** for TCP connections (IP addresses + port numbers).\n"
   ]
  },
  {
   "cell_type": "markdown",
   "id": "06d5b503",
   "metadata": {},
   "source": [
    "## User Datagram Protocol (UDP)\n",
    "\n",
    "UDP is a **lightweight, connectionless** transport protocol. Features:\n",
    "\n",
    "- **No reliability**: Packets may be lost or arrive out of order.\n",
    "- **No congestion control**: Can send at any rate.\n",
    "- **Small header size**: Less overhead than TCP.\n",
    "\n",
    "### UDP Header Structure:\n",
    "| Field | Size |\n",
    "|--------|------|\n",
    "| Source Port | 16 bits |\n",
    "| Destination Port | 16 bits |\n",
    "| Length | 16 bits |\n",
    "| Checksum | 16 bits |\n",
    "\n",
    "UDP is used for real-time applications like **video streaming, gaming, and DNS queries**.\n"
   ]
  },
  {
   "cell_type": "markdown",
   "id": "fcec6eee",
   "metadata": {},
   "source": [
    "## Transmission Control Protocol (TCP)\n",
    "\n",
    "TCP is a **reliable, connection-oriented** protocol. Features:\n",
    "\n",
    "- **Guaranteed delivery** of data.\n",
    "- **Order preservation** of packets.\n",
    "- **Flow control** (prevents overwhelming receivers).\n",
    "- **Congestion control** (prevents network overload).\n",
    "\n",
    "### TCP Connection Establishment: Three-Way Handshake\n",
    "1. **SYN**: Client requests a connection.\n",
    "2. **SYN-ACK**: Server acknowledges request.\n",
    "3. **ACK**: Client confirms connection.\n",
    "\n",
    "TCP is used for **web browsing (HTTP), email (SMTP), and file transfers (FTP)**.\n"
   ]
  },
  {
   "cell_type": "markdown",
   "id": "56fe6eb2",
   "metadata": {},
   "source": [
    "## Reliable Data Transfer\n",
    "\n",
    "TCP ensures reliability through:\n",
    "1. **Sequence numbers**: Identifies packet order.\n",
    "2. **Acknowledgments (ACKs)**: Confirms receipt.\n",
    "3. **Retransmissions**: Lost packets are resent.\n",
    "4. **Checksums**: Detects data corruption.\n",
    "5. **Timeouts**: Detects lost packets and triggers retransmission.\n"
   ]
  },
  {
   "cell_type": "code",
   "execution_count": null,
   "id": "d37b505f",
   "metadata": {},
   "outputs": [],
   "source": [
    "import socket\n",
    "\n",
    "# Creating a UDP socket\n",
    "udp_socket = socket.socket(socket.AF_INET, socket.SOCK_DGRAM)\n",
    "\n",
    "# Define server address and port\n",
    "server_address = (\"127.0.0.1\", 8080)\n",
    "\n",
    "# Sending a UDP packet\n",
    "message = b\"Hello, UDP Server!\"\n",
    "udp_socket.sendto(message, server_address)\n",
    "\n",
    "# Closing the socket\n",
    "udp_socket.close()\n",
    "print(\"UDP packet sent successfully.\")\n"
   ]
  },
  {
   "cell_type": "markdown",
   "id": "a3e094aa",
   "metadata": {},
   "source": [
    "## TCP Flow Control and Congestion Control\n",
    "\n",
    "### Flow Control:\n",
    "- Uses **Sliding Window Protocol** to prevent sending too much data at once.\n",
    "- **Receiver Window Size** determines how much data can be sent before an ACK is required.\n",
    "\n",
    "### Congestion Control:\n",
    "- **Slow Start**: TCP gradually increases the sending rate.\n",
    "- **Congestion Avoidance**: If network congestion is detected, TCP slows down.\n",
    "- **Fast Recovery**: Reduces data transmission rate but avoids complete halting.\n"
   ]
  }
 ],
 "metadata": {},
 "nbformat": 4,
 "nbformat_minor": 5
}
