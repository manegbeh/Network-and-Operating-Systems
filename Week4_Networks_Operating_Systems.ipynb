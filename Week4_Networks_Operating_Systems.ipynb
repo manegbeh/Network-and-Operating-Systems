{
 "cells": [
  {
   "cell_type": "markdown",
   "id": "6a59c482",
   "metadata": {},
   "source": [
    "# Week 4 - Advanced Transport Layer & QUIC\n",
    "\n",
    "## Overview\n",
    "This notebook summarizes key concepts covered in the fourth week of the **Networks and Operating Systems** module. \n",
    "Topics covered include:\n",
    "- Performance of reliable data transfer protocols\n",
    "- Stop-and-wait protocol (rdt3.0) vs. pipelined protocols\n",
    "- Go-Back-N and Selective Repeat ARQ protocols\n",
    "- TCP congestion control mechanisms\n",
    "- Introduction to QUIC (Quick UDP Internet Connections)\n"
   ]
  },
  {
   "cell_type": "markdown",
   "id": "a57e5951",
   "metadata": {},
   "source": [
    "## Reliable Data Transfer and Stop-and-Wait (rdt3.0)\n",
    "\n",
    "The **stop-and-wait** protocol ensures reliable data transfer by waiting for an acknowledgment (ACK) before sending the next packet.\n",
    "### Characteristics:\n",
    "- **Sender transmits a single packet** and waits for an ACK.\n",
    "- **If ACK is received**, send the next packet.\n",
    "- **If no ACK is received (timeout)**, retransmit the packet.\n",
    "- **Slow performance** due to waiting.\n",
    "\n",
    "### Performance Example:\n",
    "- **1 Gbps link**, **15 ms propagation delay**, **8000-bit packet**\n",
    "- **Transmission delay**: `D_trans = L/R = 8000 bits / 10^9 bits/sec = 8 µs`\n",
    "- **Round-trip time (RTT)**: `RTT + L/R`\n"
   ]
  },
  {
   "cell_type": "markdown",
   "id": "fd2901e3",
   "metadata": {},
   "source": [
    "## Pipelined Protocols: Go-Back-N & Selective Repeat\n",
    "\n",
    "To improve performance, **pipelined protocols** allow multiple packets to be \"in-flight\" before ACKs are received.\n",
    "\n",
    "### **Go-Back-N (GBN) Protocol:**\n",
    "- Sender keeps up to `N` unacknowledged packets in a window.\n",
    "- If a packet is lost, **all subsequent packets are retransmitted**.\n",
    "- **More efficient than stop-and-wait but can waste bandwidth**.\n",
    "\n",
    "### **Selective Repeat (SR) Protocol:**\n",
    "- Receiver individually **ACKs** each correctly received packet.\n",
    "- Sender retransmits only **lost packets**, avoiding unnecessary retransmissions.\n",
    "- Requires **buffering** at the receiver.\n"
   ]
  },
  {
   "cell_type": "markdown",
   "id": "6784727c",
   "metadata": {},
   "source": [
    "## TCP Congestion Control\n",
    "\n",
    "TCP dynamically adjusts its sending rate based on network conditions.\n",
    "### **Phases of TCP Congestion Control:**\n",
    "1. **Slow Start:** \n",
    "   - Starts with a small congestion window (`cwnd`).\n",
    "   - Doubles `cwnd` every round-trip time (RTT).\n",
    "2. **Congestion Avoidance:** \n",
    "   - Increases `cwnd` linearly to prevent congestion.\n",
    "3. **Fast Retransmit & Fast Recovery:** \n",
    "   - If three duplicate ACKs are received, retransmit the lost packet **before timeout**.\n",
    "\n",
    "TCP ensures fair bandwidth usage and minimizes congestion-related packet loss.\n"
   ]
  },
  {
   "cell_type": "markdown",
   "id": "ee0fbfc9",
   "metadata": {},
   "source": [
    "## Introduction to QUIC (Quick UDP Internet Connections)\n",
    "\n",
    "**QUIC** is a transport protocol designed to improve web performance by replacing TCP+TLS with a **low-latency, secure** protocol.\n",
    "\n",
    "### **Key Features of QUIC:**\n",
    "- **Uses UDP** instead of TCP, avoiding head-of-line blocking.\n",
    "- **Reduces handshake latency** (0-RTT and 1-RTT handshakes).\n",
    "- **Multiplexes streams** to avoid blocking delays.\n",
    "- **Implements congestion control and error recovery.**\n",
    "\n",
    "QUIC is widely used in modern applications, including **Google Chrome and YouTube**, improving speed and reliability.\n"
   ]
  },
  {
   "cell_type": "code",
   "execution_count": null,
   "id": "9a94ed99",
   "metadata": {},
   "outputs": [],
   "source": [
    "import time\n",
    "\n",
    "def stop_and_wait_simulation(packet_count):\n",
    "    \"\"\" Simulates Stop-and-Wait protocol performance \"\"\"\n",
    "    RTT = 0.030  # 30ms Round Trip Time\n",
    "    transmission_time = 0.008  # 8 microseconds (converted to milliseconds)\n",
    "    \n",
    "    total_time = 0\n",
    "    for i in range(packet_count):\n",
    "        total_time += RTT + transmission_time  # Waiting for ACK + transmission time\n",
    "    \n",
    "    print(f\"Total transmission time for {packet_count} packets: {total_time:.3f} seconds\")\n",
    "\n",
    "# Example simulation for 10 packets\n",
    "stop_and_wait_simulation(10)\n"
   ]
  },
  {
   "cell_type": "code",
   "execution_count": null,
   "id": "56460955",
   "metadata": {},
   "outputs": [],
   "source": [
    "import socket\n",
    "\n",
    "# Creating a UDP socket for QUIC-like handshake simulation\n",
    "client_socket = socket.socket(socket.AF_INET, socket.SOCK_DGRAM)\n",
    "server_address = ('localhost', 65432)\n",
    "message = b\"QUIC Handshake Initiated\"\n",
    "\n",
    "# Sending a QUIC-like handshake request\n",
    "client_socket.sendto(message, server_address)\n",
    "print(\"QUIC handshake request sent\")\n",
    "\n",
    "# Closing the socket\n",
    "client_socket.close()\n"
   ]
  }
 ],
 "metadata": {},
 "nbformat": 4,
 "nbformat_minor": 5
}
