{
 "cells": [
  {
   "cell_type": "markdown",
   "id": "97cac851",
   "metadata": {},
   "source": [
    "# Week 1 - Introduction to Networks and Operating Systems\n",
    "\n",
    "## Overview\n",
    "This notebook summarizes key concepts covered in the first week of the **Networks and Operating Systems** module. \n",
    "Topics covered include:\n",
    "- Basics of networks and their importance\n",
    "- Types of networks\n",
    "- The Internet and its defining characteristics\n",
    "- Network structures and core components\n",
    "- Packet switching vs Circuit switching\n",
    "- Internet Service Providers (ISPs) and their hierarchy\n"
   ]
  },
  {
   "cell_type": "markdown",
   "id": "c0fec821",
   "metadata": {},
   "source": [
    "## What is a Network?\n",
    "\n",
    "A **network** is a system of interconnected nodes that allow the transfer of information. \n",
    "Common types of networks include:\n",
    "\n",
    "- **Internet**: The largest global network.\n",
    "- **Local Area Networks (LANs)**: Networks within a small geographical area.\n",
    "- **Wide Area Networks (WANs)**: Larger networks spanning cities, countries, or even globally.\n",
    "- **Cellular Networks**: Used for mobile communication.\n",
    "- **Sensor Networks**: Used in IoT applications.\n"
   ]
  },
  {
   "cell_type": "markdown",
   "id": "872b421b",
   "metadata": {},
   "source": [
    "## Characteristics of the Internet\n",
    "\n",
    "The Internet has transformed various aspects of life, including communication, business, governance, and education. Key characteristics:\n",
    "\n",
    "1. **Global Connectivity**: It connects devices and people worldwide.\n",
    "2. **Decentralization**: No single controlling authority.\n",
    "3. **Scalability**: Can expand to accommodate new users and devices.\n",
    "4. **Interoperability**: Standard protocols allow different devices to communicate.\n",
    "5. **Real-Time Communication**: Supports messaging, video calls, and streaming.\n"
   ]
  },
  {
   "cell_type": "markdown",
   "id": "07efa5c4",
   "metadata": {},
   "source": [
    "## Packet Switching vs Circuit Switching\n",
    "\n",
    "Networks transfer data using two major techniques:\n",
    "\n",
    "1. **Circuit Switching**:\n",
    "   - Reserves a dedicated communication path.\n",
    "   - Used in traditional telephone networks.\n",
    "   - Guarantees performance but wastes bandwidth when idle.\n",
    "\n",
    "2. **Packet Switching**:\n",
    "   - Data is broken into packets and transmitted independently.\n",
    "   - Efficient resource usage and scalable.\n",
    "   - Used in modern networks including the Internet.\n"
   ]
  },
  {
   "cell_type": "code",
   "execution_count": null,
   "id": "bc8262d0",
   "metadata": {},
   "outputs": [],
   "source": [
    "import time\n",
    "import random\n",
    "\n",
    "def packet_transmission(packet_size_kb, bandwidth_mbps):\n",
    "    \"\"\"\n",
    "    Simulates packet transmission based on bandwidth and packet size.\n",
    "    \"\"\"\n",
    "    transmission_time = (packet_size_kb * 8) / (bandwidth_mbps * 1000)  # in seconds\n",
    "    return transmission_time\n",
    "\n",
    "# Example Simulation\n",
    "packet_size = 10  # KB\n",
    "bandwidth = 100  # Mbps\n",
    "delay = packet_transmission(packet_size, bandwidth)\n",
    "\n",
    "print(f\"Packet of {packet_size} KB transmitted over {bandwidth} Mbps link in {delay:.4f} seconds.\")\n"
   ]
  },
  {
   "cell_type": "markdown",
   "id": "deeacd74",
   "metadata": {},
   "source": [
    "## Internet Structure and ISP Hierarchy\n",
    "\n",
    "The Internet is organized as a **network of networks**. ISPs provide access to end users and are classified as follows:\n",
    "\n",
    "- **Tier 1 ISPs**: Global backbone providers (e.g., AT&T, NTT, Sprint).\n",
    "- **Tier 2 ISPs**: Regional ISPs that purchase bandwidth from Tier 1.\n",
    "- **Tier 3 ISPs**: Local ISPs that serve end-users.\n",
    "\n",
    "The hierarchy ensures scalability and efficient routing.\n"
   ]
  }
 ],
 "metadata": {},
 "nbformat": 4,
 "nbformat_minor": 5
}
