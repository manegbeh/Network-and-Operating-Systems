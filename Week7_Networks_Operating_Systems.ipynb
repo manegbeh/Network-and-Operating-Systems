{
 "cells": [
  {
   "cell_type": "markdown",
   "id": "e2d230bc",
   "metadata": {},
   "source": [
    "# Week 7 - Introduction to Operating Systems\n",
    "\n",
    "## Overview\n",
    "This notebook summarizes key concepts covered in the seventh week of the **Networks and Operating Systems** module. \n",
    "Topics covered include:\n",
    "- What is an Operating System?\n",
    "- Basic Components of an OS\n",
    "- Memory Management & Hierarchy\n",
    "- Process Management & Scheduling\n",
    "- File Systems & Storage Management\n",
    "- Introduction to Linux and Unix-based Systems\n"
   ]
  },
  {
   "cell_type": "markdown",
   "id": "25c2b377",
   "metadata": {},
   "source": [
    "## What is an Operating System?\n",
    "\n",
    "An **Operating System (OS)** is system software that manages computer hardware and software resources while providing common services for programs.\n",
    "\n",
    "### **Key Functions of an OS:**\n",
    "1. **Process Management:** Handles process scheduling, execution, and termination.\n",
    "2. **Memory Management:** Allocates and deallocates memory for processes.\n",
    "3. **File System Management:** Organizes and provides access to files.\n",
    "4. **I/O Device Management:** Manages communication with peripheral devices.\n",
    "5. **Security & Access Control:** Ensures system security and user authentication.\n",
    "\n",
    "Popular OS examples: **Windows, macOS, Linux, Unix, Android, iOS**.\n"
   ]
  },
  {
   "cell_type": "markdown",
   "id": "c6e48899",
   "metadata": {},
   "source": [
    "## Memory Hierarchy & Management\n",
    "\n",
    "The OS manages **primary memory (RAM)** and **secondary storage (HDD/SSD)** to optimize performance.\n",
    "\n",
    "### **Memory Hierarchy:**\n",
    "| Memory Type | Speed | Cost | Volatility |\n",
    "|-------------|------|------|------------|\n",
    "| **Registers** | Fastest | Highest | Volatile |\n",
    "| **Cache (L1, L2, L3)** | Very Fast | High | Volatile |\n",
    "| **RAM (Main Memory)** | Fast | Moderate | Volatile |\n",
    "| **SSD/HDD (Storage)** | Slow | Low | Non-volatile |\n",
    "\n",
    "### **Memory Management Techniques:**\n",
    "- **Paging**: Divides memory into fixed-sized blocks.\n",
    "- **Segmentation**: Divides memory into variable-sized blocks.\n",
    "- **Virtual Memory**: Uses disk space as an extension of RAM.\n"
   ]
  },
  {
   "cell_type": "markdown",
   "id": "54755f72",
   "metadata": {},
   "source": [
    "## Process Management & Scheduling\n",
    "\n",
    "A **process** is a running program, and the OS handles multiple processes using scheduling algorithms.\n",
    "\n",
    "### **Types of Scheduling:**\n",
    "1. **Short-term scheduling:** Decides which process gets CPU time.\n",
    "2. **Medium-term scheduling:** Swaps processes between memory and disk.\n",
    "3. **Long-term scheduling:** Controls which processes enter the system.\n",
    "\n",
    "### **Common Scheduling Algorithms:**\n",
    "- **First Come First Serve (FCFS)**: Processes execute in arrival order.\n",
    "- **Round Robin (RR)**: Each process gets a fixed time slice.\n",
    "- **Shortest Job Next (SJN)**: Executes shortest processes first.\n",
    "- **Priority Scheduling**: Higher priority processes execute first.\n"
   ]
  },
  {
   "cell_type": "markdown",
   "id": "6f84e4e0",
   "metadata": {},
   "source": [
    "## File Systems & Storage Management\n",
    "\n",
    "An OS organizes data using **file systems**, which define how files are stored and accessed.\n",
    "\n",
    "### **Common File Systems:**\n",
    "- **NTFS** (Windows) - Secure & supports large files.\n",
    "- **FAT32** (USB devices) - Compatible but limited file sizes.\n",
    "- **ext4** (Linux) - Optimized for performance and reliability.\n",
    "\n",
    "### **Storage Management:**\n",
    "- **Disk Partitioning:** Divides storage into sections.\n",
    "- **File Allocation Tables (FAT):** Maps file locations on disk.\n",
    "- **Journaling:** Logs changes before committing them to disk (prevents corruption).\n"
   ]
  },
  {
   "cell_type": "markdown",
   "id": "85e0420f",
   "metadata": {},
   "source": [
    "## Introduction to Linux\n",
    "\n",
    "Linux is an open-source, Unix-like OS developed by Linus Torvalds in 1991. It is widely used in **servers, embedded systems, and personal computing**.\n",
    "\n",
    "### **Key Features of Linux:**\n",
    "- **Multi-user and Multi-tasking support**\n",
    "- **Highly customizable with different distributions (Ubuntu, Fedora, Debian)**\n",
    "- **Secure and stable (used in enterprise and cloud computing)**\n",
    "- **Command-line interface (CLI) support via Bash Shell**\n",
    "\n",
    "### **Basic Linux Commands:**\n",
    "| Command | Description |\n",
    "|---------|------------|\n",
    "| `ls` | List files and directories |\n",
    "| `cd` | Change directory |\n",
    "| `mkdir` | Create a new directory |\n",
    "| `rm` | Remove files or directories |\n",
    "| `cp` | Copy files |\n",
    "| `mv` | Move/rename files |\n",
    "| `chmod` | Change file permissions |\n"
   ]
  },
  {
   "cell_type": "code",
   "execution_count": null,
   "id": "a061f685",
   "metadata": {},
   "outputs": [],
   "source": [
    "from collections import deque\n",
    "\n",
    "def round_robin(processes, time_quantum):\n",
    "    \"\"\" Simulates Round Robin scheduling \"\"\"\n",
    "    queue = deque(processes)\n",
    "    while queue:\n",
    "        process, burst_time = queue.popleft()\n",
    "        if burst_time > time_quantum:\n",
    "            print(f\"Executing {process} for {time_quantum} units.\")\n",
    "            queue.append((process, burst_time - time_quantum))\n",
    "        else:\n",
    "            print(f\"Executing {process} for {burst_time} units. Process Completed.\")\n",
    "\n",
    "# Example Process List (Process Name, Burst Time)\n",
    "process_list = [(\"P1\", 10), (\"P2\", 5), (\"P3\", 7)]\n",
    "\n",
    "# Simulate Round Robin with a time quantum of 4 units\n",
    "round_robin(process_list, 4)\n"
   ]
  }
 ],
 "metadata": {},
 "nbformat": 4,
 "nbformat_minor": 5
}
