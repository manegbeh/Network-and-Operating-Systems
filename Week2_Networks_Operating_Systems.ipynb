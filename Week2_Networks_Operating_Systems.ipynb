{
 "cells": [
  {
   "cell_type": "markdown",
   "id": "59a97385",
   "metadata": {},
   "source": [
    "# Week 2 - Application Layer & HTTP\n",
    "\n",
    "## Overview\n",
    "This notebook summarizes key concepts covered in the second week of the **Networks and Operating Systems** module. \n",
    "Topics covered include:\n",
    "- Application layer principles\n",
    "- Web and HTTP fundamentals\n",
    "- HTTP methods and status codes\n",
    "- DNS and its role in networking\n",
    "- Peer-to-peer applications and content distribution networks\n"
   ]
  },
  {
   "cell_type": "markdown",
   "id": "612c6ca9",
   "metadata": {},
   "source": [
    "## The Application Layer\n",
    "\n",
    "The **application layer** is the topmost layer in the network stack, responsible for providing network services to end users. \n",
    "Key functions include:\n",
    "\n",
    "- Data encoding/decoding for communication.\n",
    "- Support for network-based applications like **email, web browsing, file transfers, and video streaming**.\n",
    "- Protocols like **HTTP, FTP, DNS, SMTP, and IMAP** operate at this layer.\n"
   ]
  },
  {
   "cell_type": "markdown",
   "id": "f245ca90",
   "metadata": {},
   "source": [
    "## Web and HTTP\n",
    "\n",
    "The **Hypertext Transfer Protocol (HTTP)** is the foundation of web communication. It follows a **client-server model**, \n",
    "where a client (browser) requests resources from a web server.\n",
    "\n",
    "### HTTP Characteristics:\n",
    "- **Uses TCP (port 80)** for reliable communication.\n",
    "- **Stateless protocol** (each request is independent).\n",
    "- **Two main message types**: Request and Response.\n"
   ]
  },
  {
   "cell_type": "markdown",
   "id": "b5ffbbad",
   "metadata": {},
   "source": [
    "## HTTP Methods\n",
    "\n",
    "HTTP defines various request methods for communication between clients and servers:\n",
    "\n",
    "| Method | Description |\n",
    "|--------|------------|\n",
    "| **GET** | Requests a resource without modifying it. |\n",
    "| **POST** | Sends data to be processed by the server (e.g., form submission). |\n",
    "| **PUT** | Updates a resource or creates one if it doesn’t exist. |\n",
    "| **DELETE** | Removes a resource from the server. |\n",
    "| **HEAD** | Requests metadata about a resource. |\n",
    "| **OPTIONS** | Fetches supported HTTP methods for a resource. |\n"
   ]
  },
  {
   "cell_type": "markdown",
   "id": "679387a9",
   "metadata": {},
   "source": [
    "## HTTP Status Codes\n",
    "\n",
    "When a client requests a resource, the server responds with an **HTTP status code** indicating success or failure:\n",
    "\n",
    "| Code | Meaning |\n",
    "|------|---------|\n",
    "| **200 OK** | Request was successful. |\n",
    "| **301 Moved Permanently** | Resource has been moved to a new location. |\n",
    "| **400 Bad Request** | The request was malformed or invalid. |\n",
    "| **403 Forbidden** | Access denied to the requested resource. |\n",
    "| **404 Not Found** | Resource does not exist. |\n",
    "| **500 Internal Server Error** | The server encountered an unexpected condition. |\n"
   ]
  },
  {
   "cell_type": "markdown",
   "id": "f3aa3760",
   "metadata": {},
   "source": [
    "## Domain Name System (DNS)\n",
    "\n",
    "The **Domain Name System (DNS)** is used to resolve human-readable domain names into IP addresses.\n",
    "\n",
    "### How DNS Works:\n",
    "1. A client requests the IP address of a domain (e.g., `www.google.com`).\n",
    "2. The DNS resolver queries different levels of DNS servers.\n",
    "3. The authoritative DNS server provides the IP address.\n",
    "4. The client uses this IP to connect to the web server.\n"
   ]
  },
  {
   "cell_type": "code",
   "execution_count": null,
   "id": "b94e41b4",
   "metadata": {},
   "outputs": [],
   "source": [
    "import requests\n",
    "\n",
    "# Sending a GET request to an example website\n",
    "url = \"https://www.example.com\"\n",
    "response = requests.get(url)\n",
    "\n",
    "# Displaying response details\n",
    "print(f\"Status Code: {response.status_code}\")\n",
    "print(f\"Headers: {response.headers}\")\n"
   ]
  },
  {
   "cell_type": "markdown",
   "id": "93a3bb7a",
   "metadata": {},
   "source": [
    "## Peer-to-Peer (P2P) and Content Distribution Networks (CDNs)\n",
    "\n",
    "- **Client-server model**: Centralized servers provide services to clients.\n",
    "- **P2P model**: Devices communicate directly without central servers.\n",
    "- **CDNs** distribute content across multiple geographically dispersed servers to improve speed and reliability.\n"
   ]
  }
 ],
 "metadata": {},
 "nbformat": 4,
 "nbformat_minor": 5
}
